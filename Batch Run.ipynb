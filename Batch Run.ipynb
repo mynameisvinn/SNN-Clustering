{
 "cells": [
  {
   "cell_type": "code",
   "execution_count": 7,
   "id": "5f0f9095",
   "metadata": {},
   "outputs": [],
   "source": [
    "from glob import glob\n",
    "from pathlib import Path\n",
    "\n",
    "import cv2 \n",
    "from mpl_toolkits.axes_grid1 import ImageGrid\n",
    "import matplotlib.pyplot as plt\n",
    "import numpy as np\n",
    "import pandas as pd\n",
    "from tqdm import tqdm\n",
    "\n",
    "from keras.applications.mobilenet import preprocess_input\n",
    "import tensorflow as tf\n",
    "from tensorflow.keras.models import Model\n",
    "\n",
    "from SNN.shared_nearest_neighbors import SNN\n",
    "from sklearn.cluster import DBSCAN\n",
    "from sklearn.manifold import TSNE\n",
    "from sklearn.metrics import pairwise_distances, accuracy_score, precision_score, recall_score\n",
    "from sklearn import preprocessing\n",
    "\n",
    "from finder.utils import load_model, construct_dataset\n",
    "\n",
    "plt.style.use('seaborn')\n",
    "\n",
    "def parse(filename, label):\n",
    "    image_string = tf.io.read_file(filename)\n",
    "    image = tf.image.decode_jpeg(image_string, channels=3)\n",
    "    image = tf.image.resize(image, [224, 224])\n",
    "    image = preprocess_input(image)\n",
    "    return image, label\n",
    "\n",
    "def construct_dataset(fnames, labels):\n",
    "    dataset = tf.data.Dataset.from_tensor_slices((fnames, labels))\n",
    "    dataset = dataset.map(parse, num_parallel_calls=4)\n",
    "    # dataset = dataset.shuffle(len(fnames))\n",
    "    dataset = dataset.batch(24)\n",
    "    dataset = dataset.prefetch(1)\n",
    "    return dataset\n",
    "\n",
    "def embed(img):\n",
    "    embeddings = model(img)\n",
    "    normalized = preprocessing.normalize(embeddings, norm='l2')\n",
    "    return normalized\n",
    "\n",
    "def _metrics(true, pred):\n",
    "    acc = accuracy_score(true, pred)\n",
    "    precision = precision_score(true, pred)\n",
    "    recall = recall_score(true, pred)\n",
    "    # print(f'Acc: {acc:.2f}, Precision: {precision:.2f}, Recall: {recall:.2f}')\n",
    "    return acc, precision, recall"
   ]
  },
  {
   "cell_type": "code",
   "execution_count": 2,
   "id": "8583a2a3",
   "metadata": {},
   "outputs": [
    {
     "name": "stdout",
     "output_type": "stream",
     "text": [
      "Adding dfd3e756-84ab-4265-ba92-6c052d1b09a3 to dataset as label 0\n",
      "Adding 9703c845-7d31-4bf6-8146-917ca7bc1d39 to dataset as label 1\n",
      "Adding dfc7da50-3a9d-4c77-a4bf-5b1f3105f10e to dataset as label 2\n",
      "Adding 9683e268-78c6-45a5-827f-bf5c6584281f to dataset as label 3\n",
      "Adding 0a2ac933-f473-49b1-baa7-3825696e2e7f to dataset as label 4\n",
      "Adding dfe1496a-8243-4d47-8a4e-7a2db437bd08 to dataset as label 5\n",
      "Adding e6e2f7a0-2671-4ba4-a069-956df1d2d1e9 to dataset as label 6\n",
      "Adding dfe2d9e7-be4f-4986-9ce9-a20e8ccd346b to dataset as label 7\n",
      "Adding dff69293-73ed-48f7-aa13-b491d3da6131 to dataset as label 8\n",
      "Adding 9706ed74-9fb0-4605-8c48-a5bb0691fa79 to dataset as label 9\n",
      "Adding 9646a030-d132-4f9e-8862-8a8426eb4116 to dataset as label 10\n",
      "Adding dfd06b13-ac9c-4815-b4c1-18be0c40bbf1 to dataset as label 11\n",
      "Adding dff82797-71d7-49ef-8c93-5fe2d0061432 to dataset as label 12\n",
      "Adding dfed2a20-2223-46e0-83e0-d5f9d6068afc to dataset as label 13\n",
      "Adding dfbf1846-daa3-4830-9a67-b06ebbc01046 to dataset as label 14\n",
      "Adding dfdde3c7-7b54-4afe-bc36-bf71121578a6 to dataset as label 15\n",
      "Adding 9739d364-d821-4862-8f52-0faac775ee93 to dataset as label 16\n",
      "Adding 0a0eb84b-a0ad-4da8-9325-6c66ac6d4e54 to dataset as label 17\n",
      "Adding dfb5225e-561f-4c70-a391-2d4349107f58 to dataset as label 18\n",
      "Adding 9686d443-2afd-4c2e-8825-274964640549 to dataset as label 19\n",
      "Adding dfd395c9-2e08-4742-8c98-c1d8fa76d62c to dataset as label 20\n",
      "Adding fc5c1ee9-6594-4c35-b4f0-204809d3f940 to dataset as label 21\n",
      "Adding dfaa4cb6-0b1c-403c-a688-e1e153915ce4 to dataset as label 22\n",
      "Adding dfab0996-533c-42c7-ab3e-b77508e311d5 to dataset as label 23\n",
      "Adding dfcba3c5-351f-40a6-b29e-78b8c1cdf89e to dataset as label 24\n",
      "Adding dff01709-c97b-433a-b555-eb31a7bb7fe2 to dataset as label 25\n",
      "Adding dfb47a5c-6ca1-440a-a2e7-05908320065e to dataset as label 26\n",
      "Adding dfe3467f-6a12-4fbe-a19c-2d5b9862c53d to dataset as label 27\n",
      "Adding 0e15fe74-8e2f-4db7-9722-41421594337c to dataset as label 28\n"
     ]
    }
   ],
   "source": [
    "# construct dataset\n",
    "fnames = []\n",
    "labels = []\n",
    "\n",
    "root = './data'\n",
    "brands = glob(f'{root}/*')\n",
    "\n",
    "count = 0\n",
    "for brand in brands:\n",
    "    print(f\"Adding {brand.split('/')[-1]} to dataset as label {count}\")\n",
    "    items = glob(f'{brand}/*')\n",
    "    fnames += items\n",
    "    labels += [count] * len(items)\n",
    "    count += 1\n",
    "assert len(fnames) == len(labels)"
   ]
  },
  {
   "cell_type": "code",
   "execution_count": 3,
   "id": "6afdced8",
   "metadata": {},
   "outputs": [
    {
     "name": "stderr",
     "output_type": "stream",
     "text": [
      "2022-02-28 10:02:03.626005: I tensorflow/core/platform/cpu_feature_guard.cc:151] This TensorFlow binary is optimized with oneAPI Deep Neural Network Library (oneDNN) to use the following CPU instructions in performance-critical operations:  AVX2 FMA\n",
      "To enable them in other operations, rebuild TensorFlow with the appropriate compiler flags.\n"
     ]
    }
   ],
   "source": [
    "# load pretrained model to compute embeddings\n",
    "embedding_layer = 'feature_vector' \n",
    "model_path = Path(\"./model/0050-0.868171.hdf5\")\n",
    "m = tf.keras.models.load_model(model_path)\n",
    "model = Model(inputs=m.input, outputs=m.get_layer(embedding_layer).output)"
   ]
  },
  {
   "cell_type": "code",
   "execution_count": 4,
   "id": "15b6900d",
   "metadata": {},
   "outputs": [
    {
     "name": "stdout",
     "output_type": "stream",
     "text": [
      "We have 678 samples with 1024-dim embeddings\n"
     ]
    }
   ],
   "source": [
    "# construct dataset\n",
    "dataset = construct_dataset(fnames, labels)\n",
    "train_data = np.vstack([embed(X) for X, y in dataset])\n",
    "print(f'We have {train_data.shape[0]} samples with {train_data.shape[1]}-dim embeddings')"
   ]
  },
  {
   "cell_type": "code",
   "execution_count": 5,
   "id": "29bd4714",
   "metadata": {},
   "outputs": [
    {
     "name": "stdout",
     "output_type": "stream",
     "text": [
      "shape (678, 678)\n"
     ]
    }
   ],
   "source": [
    "# compute similarity matrix so we can identify nearest neighbors through brute force\n",
    "sim_matrix = pairwise_distances(train_data, metric='euclidean')\n",
    "print(f'shape {sim_matrix.shape}')"
   ]
  },
  {
   "cell_type": "code",
   "execution_count": 15,
   "id": "ca0a76fc",
   "metadata": {},
   "outputs": [
    {
     "name": "stderr",
     "output_type": "stream",
     "text": [
      "  0%|                                                     | 0/3 [00:00<?, ?it/s]/Users/vintang/anaconda3/lib/python3.9/site-packages/sklearn/manifold/_t_sne.py:780: FutureWarning: The default initialization in TSNE will change from 'random' to 'pca' in 1.2.\n",
      "  warnings.warn(\n",
      "/Users/vintang/anaconda3/lib/python3.9/site-packages/sklearn/manifold/_t_sne.py:790: FutureWarning: The default learning rate in TSNE will change from 200.0 to 'auto' in 1.2.\n",
      "  warnings.warn(\n"
     ]
    },
    {
     "name": "stdout",
     "output_type": "stream",
     "text": [
      "Top 50 results\n"
     ]
    },
    {
     "name": "stderr",
     "output_type": "stream",
     "text": [
      "/Users/vintang/anaconda3/lib/python3.9/site-packages/sklearn/neighbors/_base.py:199: EfficiencyWarning: Precomputed sparse input was not sorted by data.\n",
      "  warnings.warn(\n",
      "/Users/vintang/anaconda3/lib/python3.9/site-packages/sklearn/manifold/_t_sne.py:780: FutureWarning: The default initialization in TSNE will change from 'random' to 'pca' in 1.2.\n",
      "  warnings.warn(\n",
      "/Users/vintang/anaconda3/lib/python3.9/site-packages/sklearn/manifold/_t_sne.py:790: FutureWarning: The default learning rate in TSNE will change from 200.0 to 'auto' in 1.2.\n",
      "  warnings.warn(\n",
      "/Users/vintang/anaconda3/lib/python3.9/site-packages/sklearn/neighbors/_base.py:199: EfficiencyWarning: Precomputed sparse input was not sorted by data.\n",
      "  warnings.warn(\n",
      "/Users/vintang/anaconda3/lib/python3.9/site-packages/sklearn/manifold/_t_sne.py:780: FutureWarning: The default initialization in TSNE will change from 'random' to 'pca' in 1.2.\n",
      "  warnings.warn(\n",
      "/Users/vintang/anaconda3/lib/python3.9/site-packages/sklearn/manifold/_t_sne.py:790: FutureWarning: The default learning rate in TSNE will change from 200.0 to 'auto' in 1.2.\n",
      "  warnings.warn(\n",
      "/Users/vintang/anaconda3/lib/python3.9/site-packages/sklearn/neighbors/_base.py:199: EfficiencyWarning: Precomputed sparse input was not sorted by data.\n",
      "  warnings.warn(\n",
      " 33%|███████████████                              | 1/3 [00:00<00:01,  1.17it/s]/Users/vintang/anaconda3/lib/python3.9/site-packages/sklearn/manifold/_t_sne.py:780: FutureWarning: The default initialization in TSNE will change from 'random' to 'pca' in 1.2.\n",
      "  warnings.warn(\n",
      "/Users/vintang/anaconda3/lib/python3.9/site-packages/sklearn/manifold/_t_sne.py:790: FutureWarning: The default learning rate in TSNE will change from 200.0 to 'auto' in 1.2.\n",
      "  warnings.warn(\n"
     ]
    },
    {
     "name": "stdout",
     "output_type": "stream",
     "text": [
      "Top 75 results\n"
     ]
    },
    {
     "name": "stderr",
     "output_type": "stream",
     "text": [
      "/Users/vintang/anaconda3/lib/python3.9/site-packages/sklearn/neighbors/_base.py:199: EfficiencyWarning: Precomputed sparse input was not sorted by data.\n",
      "  warnings.warn(\n",
      "/Users/vintang/anaconda3/lib/python3.9/site-packages/sklearn/manifold/_t_sne.py:780: FutureWarning: The default initialization in TSNE will change from 'random' to 'pca' in 1.2.\n",
      "  warnings.warn(\n",
      "/Users/vintang/anaconda3/lib/python3.9/site-packages/sklearn/manifold/_t_sne.py:790: FutureWarning: The default learning rate in TSNE will change from 200.0 to 'auto' in 1.2.\n",
      "  warnings.warn(\n",
      "/Users/vintang/anaconda3/lib/python3.9/site-packages/sklearn/neighbors/_base.py:199: EfficiencyWarning: Precomputed sparse input was not sorted by data.\n",
      "  warnings.warn(\n",
      "/Users/vintang/anaconda3/lib/python3.9/site-packages/sklearn/manifold/_t_sne.py:780: FutureWarning: The default initialization in TSNE will change from 'random' to 'pca' in 1.2.\n",
      "  warnings.warn(\n",
      "/Users/vintang/anaconda3/lib/python3.9/site-packages/sklearn/manifold/_t_sne.py:790: FutureWarning: The default learning rate in TSNE will change from 200.0 to 'auto' in 1.2.\n",
      "  warnings.warn(\n",
      "/Users/vintang/anaconda3/lib/python3.9/site-packages/sklearn/neighbors/_base.py:199: EfficiencyWarning: Precomputed sparse input was not sorted by data.\n",
      "  warnings.warn(\n",
      " 67%|██████████████████████████████               | 2/3 [00:01<00:00,  1.12it/s]/Users/vintang/anaconda3/lib/python3.9/site-packages/sklearn/manifold/_t_sne.py:780: FutureWarning: The default initialization in TSNE will change from 'random' to 'pca' in 1.2.\n",
      "  warnings.warn(\n",
      "/Users/vintang/anaconda3/lib/python3.9/site-packages/sklearn/manifold/_t_sne.py:790: FutureWarning: The default learning rate in TSNE will change from 200.0 to 'auto' in 1.2.\n",
      "  warnings.warn(\n"
     ]
    },
    {
     "name": "stdout",
     "output_type": "stream",
     "text": [
      "Top 100 results\n"
     ]
    },
    {
     "name": "stderr",
     "output_type": "stream",
     "text": [
      "/Users/vintang/anaconda3/lib/python3.9/site-packages/sklearn/neighbors/_base.py:199: EfficiencyWarning: Precomputed sparse input was not sorted by data.\n",
      "  warnings.warn(\n",
      "/Users/vintang/anaconda3/lib/python3.9/site-packages/sklearn/manifold/_t_sne.py:780: FutureWarning: The default initialization in TSNE will change from 'random' to 'pca' in 1.2.\n",
      "  warnings.warn(\n",
      "/Users/vintang/anaconda3/lib/python3.9/site-packages/sklearn/manifold/_t_sne.py:790: FutureWarning: The default learning rate in TSNE will change from 200.0 to 'auto' in 1.2.\n",
      "  warnings.warn(\n",
      "/Users/vintang/anaconda3/lib/python3.9/site-packages/sklearn/neighbors/_base.py:199: EfficiencyWarning: Precomputed sparse input was not sorted by data.\n",
      "  warnings.warn(\n",
      "/Users/vintang/anaconda3/lib/python3.9/site-packages/sklearn/manifold/_t_sne.py:780: FutureWarning: The default initialization in TSNE will change from 'random' to 'pca' in 1.2.\n",
      "  warnings.warn(\n",
      "/Users/vintang/anaconda3/lib/python3.9/site-packages/sklearn/manifold/_t_sne.py:790: FutureWarning: The default learning rate in TSNE will change from 200.0 to 'auto' in 1.2.\n",
      "  warnings.warn(\n",
      "/Users/vintang/anaconda3/lib/python3.9/site-packages/sklearn/neighbors/_base.py:199: EfficiencyWarning: Precomputed sparse input was not sorted by data.\n",
      "  warnings.warn(\n",
      "100%|█████████████████████████████████████████████| 3/3 [00:02<00:00,  1.05it/s]\n"
     ]
    }
   ],
   "source": [
    "params = [50, 75, 100]\n",
    "idxs = [15, 31, 300]\n",
    "\n",
    "mean_precision = []\n",
    "\n",
    "for n_results in tqdm(params):\n",
    "    print(f'Top {n_results} results')\n",
    "    \n",
    "    batch = []\n",
    "\n",
    "    for idx in idxs:\n",
    "\n",
    "        indices = pd.Series(sim_matrix[idx]).sort_values(ascending=True).index.values[:n_results]  # first element is itself\n",
    "        results = np.take(train_data, indices, axis=0)  # neighbor embeddings\n",
    "\n",
    "        y_test = np.take(labels, indices)\n",
    "        y_test_encoded = (y_test == labels[idx]).astype(int)  # 1 represents same cluster as query image, 0 for everything else\n",
    "\n",
    "        # ground truth cluster\n",
    "        t = TSNE(n_components=2)\n",
    "        projections = t.fit_transform(results)\n",
    "\n",
    "        # plot points with cluster labels\n",
    "        snn = SNN(n_neighbors=3, eps=0.1, min_samples=5, metric=\"euclidean\")  # tighter eps give better results\n",
    "        snn.fit(results)\n",
    "        snn_labels = snn.labels_\n",
    "        snn_pred = (snn_labels == snn_labels[0]).astype(int)  # first element is itself\n",
    "        acc, precision, recall = _metrics(true=y_test_encoded, pred=snn_pred)\n",
    "        \n",
    "        batch.append(acc)\n",
    "    \n",
    "    mean_precision.append(np.mean(batch))"
   ]
  },
  {
   "cell_type": "code",
   "execution_count": 17,
   "id": "4df38ebf",
   "metadata": {},
   "outputs": [
    {
     "data": {
      "text/plain": [
       "[<matplotlib.lines.Line2D at 0x7f79ad4ee910>]"
      ]
     },
     "execution_count": 17,
     "metadata": {},
     "output_type": "execute_result"
    },
    {
     "data": {
      "image/png": "[encoded data removed]",
      "text/plain": [
       "<Figure size 576x396 with 1 Axes>"
      ]
     },
     "metadata": {},
     "output_type": "display_data"
    }
   ],
   "source": [
    "plt.plot(params, mean_precision)"
   ]
  },
  {
   "cell_type": "code",
   "execution_count": null,
   "id": "c53785c7",
   "metadata": {},
   "outputs": [],
   "source": []
  }
 ],
 "metadata": {
  "kernelspec": {
   "display_name": "Python 3 (ipykernel)",
   "language": "python",
   "name": "python3"
  },
  "language_info": {
   "codemirror_mode": {
    "name": "ipython",
    "version": 3
   },
   "file_extension": ".py",
   "mimetype": "text/x-python",
   "name": "python",
   "nbconvert_exporter": "python",
   "pygments_lexer": "ipython3",
   "version": "3.9.7"
  }
 },
 "nbformat": 4,
 "nbformat_minor": 5
}
